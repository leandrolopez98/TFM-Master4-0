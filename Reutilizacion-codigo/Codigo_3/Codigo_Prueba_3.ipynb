{
 "cells": [
  {
   "cell_type": "code",
   "execution_count": 1,
   "metadata": {},
   "outputs": [
    {
     "name": "stdout",
     "output_type": "stream",
     "text": [
      "fatal: destination path 'ODRS' already exists and is not an empty directory.\n",
      "/workspaces/TFM-Master4-0/TFM-Master4-0/Reutilizacion-codigo/Codigo_3/ODRS\n"
     ]
    },
    {
     "name": "stderr",
     "output_type": "stream",
     "text": [
      "/home/codespace/.local/lib/python3.10/site-packages/IPython/core/magics/osm.py:417: UserWarning: This is now an optional IPython functionality, setting dhist requires you to install the `pickleshare` library.\n",
      "  self.shell.db['dhist'] = compress_dhist(dhist)[-100:]\n"
     ]
    }
   ],
   "source": [
    "!git clone -b develop https://github.com/saaresearch/ODRS.git\n",
    "%cd ODRS/"
   ]
  },
  {
   "cell_type": "code",
   "execution_count": 2,
   "metadata": {},
   "outputs": [
    {
     "name": "stdout",
     "output_type": "stream",
     "text": [
      "Requirement already satisfied: Pillow==9.5.0 in /usr/local/python/3.10.13/lib/python3.10/site-packages (from -r requirements.txt (line 1)) (9.5.0)\n",
      "Requirement already satisfied: pandas==1.4.2 in /usr/local/python/3.10.13/lib/python3.10/site-packages (from -r requirements.txt (line 2)) (1.4.2)\n",
      "Requirement already satisfied: GitPython==3.1.32 in /usr/local/python/3.10.13/lib/python3.10/site-packages (from -r requirements.txt (line 3)) (3.1.32)\n",
      "Requirement already satisfied: matplotlib==3.7.0 in /usr/local/python/3.10.13/lib/python3.10/site-packages (from -r requirements.txt (line 4)) (3.7.0)\n",
      "Requirement already satisfied: numpy==1.23.5 in /usr/local/python/3.10.13/lib/python3.10/site-packages (from -r requirements.txt (line 5)) (1.23.5)\n",
      "Requirement already satisfied: opencv-python==4.7.0.72 in /usr/local/python/3.10.13/lib/python3.10/site-packages (from -r requirements.txt (line 6)) (4.7.0.72)\n",
      "Requirement already satisfied: psutil==5.9.4 in /usr/local/python/3.10.13/lib/python3.10/site-packages (from -r requirements.txt (line 7)) (5.9.4)\n",
      "Requirement already satisfied: PyYAML==6.0 in /usr/local/python/3.10.13/lib/python3.10/site-packages (from -r requirements.txt (line 8)) (6.0)\n",
      "Requirement already satisfied: requests==2.28.2 in /usr/local/python/3.10.13/lib/python3.10/site-packages (from -r requirements.txt (line 9)) (2.28.2)\n",
      "Requirement already satisfied: scipy==1.9.1 in /usr/local/python/3.10.13/lib/python3.10/site-packages (from -r requirements.txt (line 10)) (1.9.1)\n",
      "Requirement already satisfied: thop==0.1.1.post2209072238 in /usr/local/python/3.10.13/lib/python3.10/site-packages (from -r requirements.txt (line 11)) (0.1.1.post2209072238)\n",
      "Requirement already satisfied: torch==1.13.1 in /usr/local/python/3.10.13/lib/python3.10/site-packages (from -r requirements.txt (line 12)) (1.13.1)\n",
      "Requirement already satisfied: torchvision==0.14.1 in /usr/local/python/3.10.13/lib/python3.10/site-packages (from -r requirements.txt (line 13)) (0.14.1)\n",
      "Requirement already satisfied: tqdm==4.64.1 in /usr/local/python/3.10.13/lib/python3.10/site-packages (from -r requirements.txt (line 14)) (4.64.1)\n",
      "Requirement already satisfied: ultralytics==8.0.149 in /usr/local/python/3.10.13/lib/python3.10/site-packages (from -r requirements.txt (line 15)) (8.0.149)\n",
      "Requirement already satisfied: scikit-learn==1.2.2 in /usr/local/python/3.10.13/lib/python3.10/site-packages (from -r requirements.txt (line 16)) (1.2.2)\n",
      "Requirement already satisfied: loguru==0.6.0 in /usr/local/python/3.10.13/lib/python3.10/site-packages (from -r requirements.txt (line 17)) (0.6.0)\n",
      "Requirement already satisfied: tensorboard==2.11.2 in /usr/local/python/3.10.13/lib/python3.10/site-packages (from -r requirements.txt (line 18)) (2.11.2)\n",
      "Requirement already satisfied: wandb==0.15.8 in /usr/local/python/3.10.13/lib/python3.10/site-packages (from -r requirements.txt (line 19)) (0.15.8)\n",
      "Requirement already satisfied: pycocotools==2.0.6 in /usr/local/python/3.10.13/lib/python3.10/site-packages (from -r requirements.txt (line 20)) (2.0.6)\n",
      "Requirement already satisfied: albumentations==1.3.1 in /usr/local/python/3.10.13/lib/python3.10/site-packages (from -r requirements.txt (line 21)) (1.3.1)\n",
      "Requirement already satisfied: vision-transformers==0.1.1.0 in /usr/local/python/3.10.13/lib/python3.10/site-packages (from -r requirements.txt (line 22)) (0.1.1.0)\n",
      "Requirement already satisfied: torchinfo==1.8.0 in /usr/local/python/3.10.13/lib/python3.10/site-packages (from -r requirements.txt (line 23)) (1.8.0)\n",
      "Requirement already satisfied: catboost in /usr/local/python/3.10.13/lib/python3.10/site-packages (from -r requirements.txt (line 24)) (1.2.5)\n",
      "Requirement already satisfied: umap-learn in /usr/local/python/3.10.13/lib/python3.10/site-packages (from -r requirements.txt (line 25)) (0.5.6)\n",
      "Requirement already satisfied: yacs in /usr/local/python/3.10.13/lib/python3.10/site-packages (from -r requirements.txt (line 26)) (0.1.8)\n",
      "Requirement already satisfied: wget in /usr/local/python/3.10.13/lib/python3.10/site-packages (from -r requirements.txt (line 27)) (3.2)\n",
      "Requirement already satisfied: python-dateutil>=2.8.1 in /home/codespace/.local/lib/python3.10/site-packages (from pandas==1.4.2->-r requirements.txt (line 2)) (2.9.0.post0)\n",
      "Requirement already satisfied: pytz>=2020.1 in /home/codespace/.local/lib/python3.10/site-packages (from pandas==1.4.2->-r requirements.txt (line 2)) (2024.1)\n",
      "Requirement already satisfied: gitdb<5,>=4.0.1 in /home/codespace/.local/lib/python3.10/site-packages (from GitPython==3.1.32->-r requirements.txt (line 3)) (4.0.11)\n",
      "Requirement already satisfied: contourpy>=1.0.1 in /home/codespace/.local/lib/python3.10/site-packages (from matplotlib==3.7.0->-r requirements.txt (line 4)) (1.2.1)\n",
      "Requirement already satisfied: cycler>=0.10 in /home/codespace/.local/lib/python3.10/site-packages (from matplotlib==3.7.0->-r requirements.txt (line 4)) (0.12.1)\n",
      "Requirement already satisfied: fonttools>=4.22.0 in /home/codespace/.local/lib/python3.10/site-packages (from matplotlib==3.7.0->-r requirements.txt (line 4)) (4.53.1)\n",
      "Requirement already satisfied: kiwisolver>=1.0.1 in /home/codespace/.local/lib/python3.10/site-packages (from matplotlib==3.7.0->-r requirements.txt (line 4)) (1.4.5)\n",
      "Requirement already satisfied: packaging>=20.0 in /home/codespace/.local/lib/python3.10/site-packages (from matplotlib==3.7.0->-r requirements.txt (line 4)) (24.1)\n",
      "Requirement already satisfied: pyparsing>=2.3.1 in /home/codespace/.local/lib/python3.10/site-packages (from matplotlib==3.7.0->-r requirements.txt (line 4)) (3.1.2)\n",
      "Requirement already satisfied: charset-normalizer<4,>=2 in /home/codespace/.local/lib/python3.10/site-packages (from requests==2.28.2->-r requirements.txt (line 9)) (3.3.2)\n",
      "Requirement already satisfied: idna<4,>=2.5 in /home/codespace/.local/lib/python3.10/site-packages (from requests==2.28.2->-r requirements.txt (line 9)) (3.7)\n",
      "Requirement already satisfied: urllib3<1.27,>=1.21.1 in /usr/local/python/3.10.13/lib/python3.10/site-packages (from requests==2.28.2->-r requirements.txt (line 9)) (1.26.19)\n",
      "Requirement already satisfied: certifi>=2017.4.17 in /home/codespace/.local/lib/python3.10/site-packages (from requests==2.28.2->-r requirements.txt (line 9)) (2024.7.4)\n",
      "Requirement already satisfied: typing-extensions in /home/codespace/.local/lib/python3.10/site-packages (from torch==1.13.1->-r requirements.txt (line 12)) (4.12.2)\n",
      "Requirement already satisfied: nvidia-cuda-runtime-cu11==11.7.99 in /usr/local/python/3.10.13/lib/python3.10/site-packages (from torch==1.13.1->-r requirements.txt (line 12)) (11.7.99)\n",
      "Requirement already satisfied: nvidia-cudnn-cu11==8.5.0.96 in /usr/local/python/3.10.13/lib/python3.10/site-packages (from torch==1.13.1->-r requirements.txt (line 12)) (8.5.0.96)\n",
      "Requirement already satisfied: nvidia-cublas-cu11==11.10.3.66 in /usr/local/python/3.10.13/lib/python3.10/site-packages (from torch==1.13.1->-r requirements.txt (line 12)) (11.10.3.66)\n",
      "Requirement already satisfied: nvidia-cuda-nvrtc-cu11==11.7.99 in /usr/local/python/3.10.13/lib/python3.10/site-packages (from torch==1.13.1->-r requirements.txt (line 12)) (11.7.99)\n",
      "Requirement already satisfied: seaborn>=0.11.0 in /home/codespace/.local/lib/python3.10/site-packages (from ultralytics==8.0.149->-r requirements.txt (line 15)) (0.13.2)\n",
      "Requirement already satisfied: py-cpuinfo in /usr/local/python/3.10.13/lib/python3.10/site-packages (from ultralytics==8.0.149->-r requirements.txt (line 15)) (9.0.0)\n",
      "Requirement already satisfied: joblib>=1.1.1 in /home/codespace/.local/lib/python3.10/site-packages (from scikit-learn==1.2.2->-r requirements.txt (line 16)) (1.4.2)\n",
      "Requirement already satisfied: threadpoolctl>=2.0.0 in /home/codespace/.local/lib/python3.10/site-packages (from scikit-learn==1.2.2->-r requirements.txt (line 16)) (3.5.0)\n",
      "Requirement already satisfied: absl-py>=0.4 in /usr/local/python/3.10.13/lib/python3.10/site-packages (from tensorboard==2.11.2->-r requirements.txt (line 18)) (2.1.0)\n",
      "Requirement already satisfied: grpcio>=1.24.3 in /usr/local/python/3.10.13/lib/python3.10/site-packages (from tensorboard==2.11.2->-r requirements.txt (line 18)) (1.66.0)\n",
      "Requirement already satisfied: google-auth<3,>=1.6.3 in /usr/local/python/3.10.13/lib/python3.10/site-packages (from tensorboard==2.11.2->-r requirements.txt (line 18)) (2.34.0)\n",
      "Requirement already satisfied: google-auth-oauthlib<0.5,>=0.4.1 in /usr/local/python/3.10.13/lib/python3.10/site-packages (from tensorboard==2.11.2->-r requirements.txt (line 18)) (0.4.6)\n",
      "Requirement already satisfied: markdown>=2.6.8 in /usr/local/python/3.10.13/lib/python3.10/site-packages (from tensorboard==2.11.2->-r requirements.txt (line 18)) (3.7)\n",
      "Requirement already satisfied: protobuf<4,>=3.9.2 in /usr/local/python/3.10.13/lib/python3.10/site-packages (from tensorboard==2.11.2->-r requirements.txt (line 18)) (3.20.3)\n",
      "Requirement already satisfied: setuptools>=41.0.0 in /usr/local/python/3.10.13/lib/python3.10/site-packages (from tensorboard==2.11.2->-r requirements.txt (line 18)) (71.1.0)\n",
      "Requirement already satisfied: tensorboard-data-server<0.7.0,>=0.6.0 in /usr/local/python/3.10.13/lib/python3.10/site-packages (from tensorboard==2.11.2->-r requirements.txt (line 18)) (0.6.1)\n",
      "Requirement already satisfied: tensorboard-plugin-wit>=1.6.0 in /usr/local/python/3.10.13/lib/python3.10/site-packages (from tensorboard==2.11.2->-r requirements.txt (line 18)) (1.8.1)\n",
      "Requirement already satisfied: werkzeug>=1.0.1 in /usr/local/python/3.10.13/lib/python3.10/site-packages (from tensorboard==2.11.2->-r requirements.txt (line 18)) (3.0.4)\n",
      "Requirement already satisfied: wheel>=0.26 in /usr/local/python/3.10.13/lib/python3.10/site-packages (from tensorboard==2.11.2->-r requirements.txt (line 18)) (0.44.0)\n",
      "Requirement already satisfied: Click!=8.0.0,>=7.1 in /usr/local/python/3.10.13/lib/python3.10/site-packages (from wandb==0.15.8->-r requirements.txt (line 19)) (8.1.7)\n",
      "Requirement already satisfied: sentry-sdk>=1.0.0 in /usr/local/python/3.10.13/lib/python3.10/site-packages (from wandb==0.15.8->-r requirements.txt (line 19)) (2.13.0)\n",
      "Requirement already satisfied: docker-pycreds>=0.4.0 in /usr/local/python/3.10.13/lib/python3.10/site-packages (from wandb==0.15.8->-r requirements.txt (line 19)) (0.4.0)\n",
      "Requirement already satisfied: pathtools in /usr/local/python/3.10.13/lib/python3.10/site-packages (from wandb==0.15.8->-r requirements.txt (line 19)) (0.1.2)\n",
      "Requirement already satisfied: setproctitle in /usr/local/python/3.10.13/lib/python3.10/site-packages (from wandb==0.15.8->-r requirements.txt (line 19)) (1.3.3)\n",
      "Requirement already satisfied: appdirs>=1.4.3 in /usr/local/python/3.10.13/lib/python3.10/site-packages (from wandb==0.15.8->-r requirements.txt (line 19)) (1.4.4)\n",
      "Requirement already satisfied: scikit-image>=0.16.1 in /usr/local/python/3.10.13/lib/python3.10/site-packages (from albumentations==1.3.1->-r requirements.txt (line 21)) (0.24.0)\n",
      "Requirement already satisfied: qudida>=0.0.4 in /usr/local/python/3.10.13/lib/python3.10/site-packages (from albumentations==1.3.1->-r requirements.txt (line 21)) (0.0.4)\n",
      "Requirement already satisfied: opencv-python-headless>=4.1.1 in /usr/local/python/3.10.13/lib/python3.10/site-packages (from albumentations==1.3.1->-r requirements.txt (line 21)) (4.10.0.84)\n",
      "Requirement already satisfied: graphviz in /usr/local/python/3.10.13/lib/python3.10/site-packages (from catboost->-r requirements.txt (line 24)) (0.20.3)\n",
      "Requirement already satisfied: plotly in /home/codespace/.local/lib/python3.10/site-packages (from catboost->-r requirements.txt (line 24)) (5.22.0)\n",
      "Requirement already satisfied: six in /home/codespace/.local/lib/python3.10/site-packages (from catboost->-r requirements.txt (line 24)) (1.16.0)\n",
      "Requirement already satisfied: numba>=0.51.2 in /usr/local/python/3.10.13/lib/python3.10/site-packages (from umap-learn->-r requirements.txt (line 25)) (0.60.0)\n",
      "Requirement already satisfied: pynndescent>=0.5 in /usr/local/python/3.10.13/lib/python3.10/site-packages (from umap-learn->-r requirements.txt (line 25)) (0.5.13)\n",
      "Requirement already satisfied: smmap<6,>=3.0.1 in /home/codespace/.local/lib/python3.10/site-packages (from gitdb<5,>=4.0.1->GitPython==3.1.32->-r requirements.txt (line 3)) (5.0.1)\n",
      "Requirement already satisfied: cachetools<6.0,>=2.0.0 in /usr/local/python/3.10.13/lib/python3.10/site-packages (from google-auth<3,>=1.6.3->tensorboard==2.11.2->-r requirements.txt (line 18)) (5.5.0)\n",
      "Requirement already satisfied: pyasn1-modules>=0.2.1 in /usr/local/python/3.10.13/lib/python3.10/site-packages (from google-auth<3,>=1.6.3->tensorboard==2.11.2->-r requirements.txt (line 18)) (0.4.0)\n",
      "Requirement already satisfied: rsa<5,>=3.1.4 in /usr/local/python/3.10.13/lib/python3.10/site-packages (from google-auth<3,>=1.6.3->tensorboard==2.11.2->-r requirements.txt (line 18)) (4.9)\n",
      "Requirement already satisfied: requests-oauthlib>=0.7.0 in /usr/local/python/3.10.13/lib/python3.10/site-packages (from google-auth-oauthlib<0.5,>=0.4.1->tensorboard==2.11.2->-r requirements.txt (line 18)) (2.0.0)\n",
      "Requirement already satisfied: llvmlite<0.44,>=0.43.0dev0 in /usr/local/python/3.10.13/lib/python3.10/site-packages (from numba>=0.51.2->umap-learn->-r requirements.txt (line 25)) (0.43.0)\n",
      "Requirement already satisfied: networkx>=2.8 in /home/codespace/.local/lib/python3.10/site-packages (from scikit-image>=0.16.1->albumentations==1.3.1->-r requirements.txt (line 21)) (3.3)\n",
      "Requirement already satisfied: imageio>=2.33 in /usr/local/python/3.10.13/lib/python3.10/site-packages (from scikit-image>=0.16.1->albumentations==1.3.1->-r requirements.txt (line 21)) (2.35.1)\n",
      "Requirement already satisfied: tifffile>=2022.8.12 in /usr/local/python/3.10.13/lib/python3.10/site-packages (from scikit-image>=0.16.1->albumentations==1.3.1->-r requirements.txt (line 21)) (2024.8.10)\n",
      "Requirement already satisfied: lazy-loader>=0.4 in /usr/local/python/3.10.13/lib/python3.10/site-packages (from scikit-image>=0.16.1->albumentations==1.3.1->-r requirements.txt (line 21)) (0.4)\n",
      "Requirement already satisfied: MarkupSafe>=2.1.1 in /home/codespace/.local/lib/python3.10/site-packages (from werkzeug>=1.0.1->tensorboard==2.11.2->-r requirements.txt (line 18)) (2.1.5)\n",
      "Requirement already satisfied: tenacity>=6.2.0 in /home/codespace/.local/lib/python3.10/site-packages (from plotly->catboost->-r requirements.txt (line 24)) (8.5.0)\n",
      "Requirement already satisfied: pyasn1<0.7.0,>=0.4.6 in /usr/local/python/3.10.13/lib/python3.10/site-packages (from pyasn1-modules>=0.2.1->google-auth<3,>=1.6.3->tensorboard==2.11.2->-r requirements.txt (line 18)) (0.6.0)\n",
      "Requirement already satisfied: oauthlib>=3.0.0 in /usr/local/python/3.10.13/lib/python3.10/site-packages (from requests-oauthlib>=0.7.0->google-auth-oauthlib<0.5,>=0.4.1->tensorboard==2.11.2->-r requirements.txt (line 18)) (3.2.2)\n"
     ]
    }
   ],
   "source": [
    "!pip install -r requirements.txt"
   ]
  },
  {
   "cell_type": "code",
   "execution_count": 3,
   "metadata": {},
   "outputs": [
    {
     "name": "stdout",
     "output_type": "stream",
     "text": [
      "/workspaces/TFM-Master4-0/TFM-Master4-0/Reutilizacion-codigo/Codigo_3/ODRS/src/ML/config\n",
      "Before:\n"
     ]
    },
    {
     "data": {
      "text/plain": [
       "{'BATCH_SIZE': 8,\n",
       " 'CLASSES': '/workspaces/TFM-Master4-0/TFM-Master4-0/Reutilizacion-codigo/Codigo_3/ODRS/classes.txt',\n",
       " 'DATA_PATH': '/workspaces/TFM-Master4-0/TFM-Master4-0/Reutilizacion-codigo/Codigo_3/dataset',\n",
       " 'EPOCHS': 150,\n",
       " 'GPU': True,\n",
       " 'GPU_COUNT': 1,\n",
       " 'IMG_SIZE': 832,\n",
       " 'MODEL': 'yolov7x',\n",
       " 'SELECT_GPU': '0',\n",
       " 'SPLIT_TRAIN_VALUE': 0.85,\n",
       " 'SPLIT_VAL_VALUE': 0.1,\n",
       " 'accuracy': True,\n",
       " 'balance': False,\n",
       " 'dataset_path': '/workspaces/TFM-Master4-0/TFM-Master4-0/Reutilizacion-codigo/Codigo_3/dataset',\n",
       " 'classes_path': '/workspaces/TFM-Master4-0/TFM-Master4-0/Reutilizacion-codigo/Codigo_3/ODRS/classes.txt',\n",
       " 'speed': False}"
      ]
     },
     "metadata": {},
     "output_type": "display_data"
    },
    {
     "name": "stdout",
     "output_type": "stream",
     "text": [
      "\n",
      "After:\n"
     ]
    },
    {
     "data": {
      "text/plain": [
       "{'BATCH_SIZE': 8,\n",
       " 'CLASSES': '/workspaces/TFM-Master4-0/TFM-Master4-0/Reutilizacion-codigo/Codigo_3/ODRS/classes.txt',\n",
       " 'DATA_PATH': '/workspaces/TFM-Master4-0/TFM-Master4-0/Reutilizacion-codigo/Codigo_3/dataset',\n",
       " 'EPOCHS': 150,\n",
       " 'GPU': True,\n",
       " 'GPU_COUNT': 1,\n",
       " 'IMG_SIZE': 832,\n",
       " 'MODEL': 'yolov7x',\n",
       " 'SELECT_GPU': '0',\n",
       " 'SPLIT_TRAIN_VALUE': 0.85,\n",
       " 'SPLIT_VAL_VALUE': 0.1,\n",
       " 'accuracy': True,\n",
       " 'balance': False,\n",
       " 'classes_path': '/workspaces/TFM-Master4-0/TFM-Master4-0/Reutilizacion-codigo/Codigo_3/ODRS/classes.txt',\n",
       " 'dataset_path': '/workspaces/TFM-Master4-0/TFM-Master4-0/Reutilizacion-codigo/Codigo_3/dataset',\n",
       " 'speed': False}"
      ]
     },
     "metadata": {},
     "output_type": "display_data"
    }
   ],
   "source": [
    "%cd /workspaces/TFM-Master4-0/TFM-Master4-0/Reutilizacion-codigo/Codigo_3/ODRS/src/ML/config/\n",
    "\n",
    "import yaml\n",
    "from IPython.display import display\n",
    "\n",
    "print(\"Before:\")\n",
    "\n",
    "with open('ml_config.yaml', 'r') as yaml_file:\n",
    "    yaml_content = yaml.safe_load(yaml_file)\n",
    "    display(yaml_content)\n",
    "\n",
    "# set True to needs parameter (choose speed, accuracy, or balance)\n",
    "yaml_content['speed'] = False\n",
    "yaml_content['GPU'] = True\n",
    "yaml_content['accuracy'] = True # now choose maximum accuracy model\n",
    "yaml_content['balance'] = False\n",
    "yaml_content['dataset_path'] = '/workspaces/TFM-Master4-0/TFM-Master4-0/Reutilizacion-codigo/Codigo_3/dataset'\n",
    "with open('ml_config.yaml', 'w') as yaml_file:\n",
    "    yaml.dump(yaml_content, yaml_file)\n",
    "\n",
    "print(\"\\nAfter:\")\n",
    "\n",
    "with open('ml_config.yaml', 'r') as yaml_file:\n",
    "    yaml_content = yaml.safe_load(yaml_file)\n",
    "    display(yaml_content)"
   ]
  },
  {
   "cell_type": "code",
   "execution_count": null,
   "metadata": {},
   "outputs": [],
   "source": [
    "import os\n",
    "import shutil\n",
    "\n",
    "# Directorios de origen\n",
    "train_images_dir = '/workspaces/TFM-Master4-0/TFM-Master4-0/Reutilizacion-codigo/Codigo_3/ODRS/user_datasets/dataset/Train-Images'\n",
    "test_images_dir = '/workspaces/TFM-Master4-0/TFM-Master4-0/Reutilizacion-codigo/Codigo_3/ODRS/user_datasets/dataset/Test-Images'\n",
    "val_images_dir = '/workspaces/TFM-Master4-0/TFM-Master4-0/Reutilizacion-codigo/Codigo_3/ODRS/user_datasets/dataset/Val-Images'\n",
    "# Directorios de destino\n",
    "train_dest_images_dir = '/workspaces/TFM-Master4-0/TFM-Master4-0/Reutilizacion-codigo/Codigo_3/ODRS/user_datasets/dataset/train/images'\n",
    "train_dest_labels_dir = '/workspaces/TFM-Master4-0/TFM-Master4-0/Reutilizacion-codigo/Codigo_3/ODRS/user_datasets/dataset/train/labels'\n",
    "test_dest_images_dir = '/workspaces/TFM-Master4-0/TFM-Master4-0/Reutilizacion-codigo/Codigo_3/ODRS/user_datasets/dataset/test/images'\n",
    "test_dest_labels_dir = '/workspaces/TFM-Master4-0/TFM-Master4-0/Reutilizacion-codigo/Codigo_3//ODRS/user_datasets/dataset/test/labels'\n",
    "val_dest_images_dir = '/workspaces/TFM-Master4-0/TFM-Master4-0/Reutilizacion-codigo/Codigo_3/ODRS/user_datasets/dataset/valid/images'\n",
    "val_dest_labels_dir = '/workspaces/TFM-Master4-0/TFM-Master4-0/Reutilizacion-codigo/Codigo_3//ODRS/user_datasets/dataset/valid/labels'\n",
    "\n",
    "# Crear directorios de destino si no existen\n",
    "os.makedirs(train_dest_images_dir, exist_ok=True)\n",
    "os.makedirs(train_dest_labels_dir, exist_ok=True)\n",
    "os.makedirs(test_dest_images_dir, exist_ok=True)\n",
    "os.makedirs(test_dest_labels_dir, exist_ok=True)\n",
    "os.makedirs(val_dest_images_dir, exist_ok=True)\n",
    "os.makedirs(val_dest_labels_dir, exist_ok=True)\n",
    "\n",
    "# Función para mover archivos\n",
    "def mover_archivos(origen_dir, dest_images_dir, dest_labels_dir):\n",
    "    # Listar todos los archivos en el directorio de origen\n",
    "    archivos = os.listdir(origen_dir)\n",
    "    \n",
    "    # Recorrer los archivos\n",
    "    for archivo in archivos:\n",
    "        # Ruta completa del archivo de origen\n",
    "        archivo_origen = os.path.join(origen_dir, archivo)\n",
    "        \n",
    "        # Si el archivo es una imagen (.jpg)\n",
    "        if archivo.endswith('.jpg'):\n",
    "            # Mover la imagen a la subcarpeta \"images\"\n",
    "            shutil.move(archivo_origen, os.path.join(dest_images_dir, archivo))\n",
    "        # Si el archivo es una etiqueta (.txt)\n",
    "        elif archivo.endswith('.txt'):\n",
    "            # Mover la etiqueta a la subcarpeta \"labels\"\n",
    "            shutil.move(archivo_origen, os.path.join(dest_labels_dir, archivo))\n",
    "\n",
    "# Mover archivos de Train-Images a las subcarpetas correspondientes\n",
    "mover_archivos(train_images_dir, train_dest_images_dir, train_dest_labels_dir)\n",
    "\n",
    "# Mover archivos de Test-Images a las subcarpetas correspondientes\n",
    "mover_archivos(test_images_dir, test_dest_images_dir, test_dest_labels_dir)\n",
    "\n",
    "# Mover archivos de Val-Images a las subcarpetas correspondientes\n",
    "mover_archivos(val_images_dir, val_dest_images_dir, val_dest_labels_dir)\n",
    "print(\"Archivos movidos correctamente.\")"
   ]
  },
  {
   "cell_type": "code",
   "execution_count": 4,
   "metadata": {},
   "outputs": [
    {
     "name": "stdout",
     "output_type": "stream",
     "text": [
      "/workspaces/TFM-Master4-0/TFM-Master4-0/Reutilizacion-codigo/Codigo_3/ODRS/src/ML\n"
     ]
    }
   ],
   "source": [
    "%cd /workspaces/TFM-Master4-0/TFM-Master4-0/Reutilizacion-codigo/Codigo_3/ODRS/src/ML"
   ]
  },
  {
   "cell_type": "code",
   "execution_count": 5,
   "metadata": {},
   "outputs": [
    {
     "name": "stdout",
     "output_type": "stream",
     "text": [
      "\u001b[32m2024-08-26 18:27:11.352\u001b[0m | \u001b[33m\u001b[1mWARNING \u001b[0m | \u001b[36msrc.data_processing.data_utils.utils\u001b[0m:\u001b[36mget_data_path\u001b[0m:\u001b[36m70\u001b[0m - \u001b[33m\u001b[1mThe dataset folder is already exist.\u001b[0m\n",
      "\u001b[32m2024-08-26 18:27:11.353\u001b[0m | \u001b[1mINFO    \u001b[0m | \u001b[36msrc.data_processing.data_utils.utils\u001b[0m:\u001b[36mget_classes_path\u001b[0m:\u001b[36m18\u001b[0m - \u001b[1mCopying classes file to /workspaces/TFM-Master4-0/TFM-Master4-0/Reutilizacion-codigo/Codigo_3/ODRS\u001b[0m\n",
      "\u001b[32m2024-08-26 18:27:11.353\u001b[0m | \u001b[33m\u001b[1mWARNING \u001b[0m | \u001b[36msrc.data_processing.data_utils.utils\u001b[0m:\u001b[36mget_classes_path\u001b[0m:\u001b[36m21\u001b[0m - \u001b[33m\u001b[1mAn error has occurred: '/workspaces/TFM-Master4-0/TFM-Master4-0/Reutilizacion-codigo/Codigo_3/ODRS/classes.txt' and '/workspaces/TFM-Master4-0/TFM-Master4-0/Reutilizacion-codigo/Codigo_3/ODRS/classes.txt' are the same file\u001b[0m\n",
      "\u001b[32m2024-08-26 18:27:11.353\u001b[0m | \u001b[1mINFO    \u001b[0m | \u001b[36msrc.data_processing.data_utils.split_dataset\u001b[0m:\u001b[36msplit_data\u001b[0m:\u001b[36m35\u001b[0m - \u001b[1mDataset is ready\u001b[0m\n",
      "Image analyze: 100%|██████████████████████████| 584/584 [01:10<00:00,  8.29it/s]\n",
      "Annotation analyze: 100%|██████████████████| 587/587 [00:00<00:00, 20753.38it/s]\n",
      "\u001b[32m2024-08-26 18:28:41.336\u001b[0m | \u001b[1mINFO    \u001b[0m | \u001b[36m__main__\u001b[0m:\u001b[36mpredict\u001b[0m:\u001b[36m64\u001b[0m - \u001b[1mTop models for training:\u001b[0m\n",
      "\u001b[32m2024-08-26 18:28:41.336\u001b[0m | \u001b[1mINFO    \u001b[0m | \u001b[36m__main__\u001b[0m:\u001b[36mpredict\u001b[0m:\u001b[36m66\u001b[0m - \u001b[1m1) yolov7x\u001b[0m\n",
      "\u001b[32m2024-08-26 18:28:41.336\u001b[0m | \u001b[1mINFO    \u001b[0m | \u001b[36m__main__\u001b[0m:\u001b[36mpredict\u001b[0m:\u001b[36m66\u001b[0m - \u001b[1m2) yolov8x6\u001b[0m\n",
      "\u001b[32m2024-08-26 18:28:41.336\u001b[0m | \u001b[1mINFO    \u001b[0m | \u001b[36m__main__\u001b[0m:\u001b[36mpredict\u001b[0m:\u001b[36m66\u001b[0m - \u001b[1m3) yolov7\u001b[0m\n",
      "\u001b[0m"
     ]
    }
   ],
   "source": [
    "!python run_recommender.py"
   ]
  },
  {
   "cell_type": "code",
   "execution_count": 6,
   "metadata": {},
   "outputs": [
    {
     "name": "stdout",
     "output_type": "stream",
     "text": [
      "/workspaces/TFM-Master4-0/TFM-Master4-0/Reutilizacion-codigo/Codigo_3/ODRS/src/DL/config\n"
     ]
    }
   ],
   "source": [
    "%cd /workspaces/TFM-Master4-0/TFM-Master4-0/Reutilizacion-codigo/Codigo_3/ODRS/src/DL/config/"
   ]
  },
  {
   "cell_type": "code",
   "execution_count": 7,
   "metadata": {},
   "outputs": [
    {
     "name": "stdout",
     "output_type": "stream",
     "text": [
      "Before\n"
     ]
    },
    {
     "data": {
      "text/plain": [
       "{'BATCH_SIZE': 8,\n",
       " 'CLASSES': 'classes.txt',\n",
       " 'DATA_PATH': '/workspaces/TFM-Master4-0/TFM-Master4-0/Reutilizacion-codigo/Codigo_3/dataset',\n",
       " 'EPOCHS': 150,\n",
       " 'GPU_COUNT': 1,\n",
       " 'IMG_SIZE': 832,\n",
       " 'MODEL': 'yolov7x',\n",
       " 'SELECT_GPU': '0',\n",
       " 'SPLIT_TRAIN_VALUE': 0.85,\n",
       " 'SPLIT_VAL_VALUE': 0.1}"
      ]
     },
     "metadata": {},
     "output_type": "display_data"
    },
    {
     "name": "stdout",
     "output_type": "stream",
     "text": [
      "After\n"
     ]
    },
    {
     "data": {
      "text/plain": [
       "{'BATCH_SIZE': 8,\n",
       " 'CLASSES': 'classes.txt',\n",
       " 'DATA_PATH': '/workspaces/TFM-Master4-0/TFM-Master4-0/Reutilizacion-codigo/Codigo_3/dataset',\n",
       " 'EPOCHS': 150,\n",
       " 'GPU_COUNT': 1,\n",
       " 'IMG_SIZE': 832,\n",
       " 'MODEL': 'yolov7x',\n",
       " 'SELECT_GPU': '0',\n",
       " 'SPLIT_TRAIN_VALUE': 0.85,\n",
       " 'SPLIT_VAL_VALUE': 0.1}"
      ]
     },
     "metadata": {},
     "output_type": "display_data"
    }
   ],
   "source": [
    "import yaml\n",
    "from IPython.display import display\n",
    "\n",
    "import yaml\n",
    "from IPython.display import display\n",
    "\n",
    "print(\"Before\")\n",
    "\n",
    "with open('train_config.yaml', 'r') as yaml_file:\n",
    "    yaml_content = yaml.safe_load(yaml_file)\n",
    "    display(yaml_content)\n",
    "\n",
    "# Speed changing\n",
    "yaml_content['GPU_COUNT'] = 1\n",
    "yaml_content['EPOCHS'] = 150\n",
    "yaml_content['BATCH_SIZE'] = 8\n",
    "yaml_content['IMG_SIZE'] = 832\n",
    "yaml_content['SELECT_GPU'] = '0'\n",
    "yaml_content['MODEL'] = 'yolov7x'\n",
    "yaml_content['DATA_PATH'] = '/workspaces/TFM-Master4-0/TFM-Master4-0/Reutilizacion-codigo/Codigo_3/dataset'\n",
    "with open('train_config.yaml', 'w') as yaml_file:\n",
    "    yaml.dump(yaml_content, yaml_file)\n",
    "\n",
    "print(\"After\")\n",
    "\n",
    "with open('train_config.yaml', 'r') as yaml_file:\n",
    "    yaml_content = yaml.safe_load(yaml_file)\n",
    "    display(yaml_content)"
   ]
  },
  {
   "cell_type": "code",
   "execution_count": 8,
   "metadata": {},
   "outputs": [
    {
     "name": "stdout",
     "output_type": "stream",
     "text": [
      "/workspaces/TFM-Master4-0/TFM-Master4-0/Reutilizacion-codigo/Codigo_3/ODRS/src/DL\n"
     ]
    }
   ],
   "source": [
    "%cd /workspaces/TFM-Master4-0/TFM-Master4-0/Reutilizacion-codigo/Codigo_3/ODRS/src/DL"
   ]
  },
  {
   "cell_type": "code",
   "execution_count": 12,
   "metadata": {},
   "outputs": [
    {
     "name": "stdout",
     "output_type": "stream",
     "text": [
      "\u001b[32m2024-08-26 18:31:15.651\u001b[0m | \u001b[33m\u001b[1mWARNING \u001b[0m | \u001b[36m__main__\u001b[0m:\u001b[36mfit_model\u001b[0m:\u001b[36m31\u001b[0m - \u001b[33m\u001b[1mCUDA no está disponible, se utilizará la CPU.\u001b[0m\n",
      "\u001b[32m2024-08-26 18:31:15.651\u001b[0m | \u001b[33m\u001b[1mWARNING \u001b[0m | \u001b[36msrc.data_processing.data_utils.utils\u001b[0m:\u001b[36mget_data_path\u001b[0m:\u001b[36m70\u001b[0m - \u001b[33m\u001b[1mThe dataset folder is already exist.\u001b[0m\n",
      "\u001b[32m2024-08-26 18:31:15.652\u001b[0m | \u001b[1mINFO    \u001b[0m | \u001b[36msrc.data_processing.data_utils.split_dataset\u001b[0m:\u001b[36msplit_data\u001b[0m:\u001b[36m35\u001b[0m - \u001b[1mDataset is ready\u001b[0m\n",
      "\u001b[32m2024-08-26 18:31:15.655\u001b[0m | \u001b[1mINFO    \u001b[0m | \u001b[36msrc.data_processing.train_processing.prepare_train\u001b[0m:\u001b[36mcreate_config_data\u001b[0m:\u001b[36m153\u001b[0m - \u001b[1mCreate config file\u001b[0m\n",
      "YOLOR 🚀 2b3123a torch 1.13.1+cu117 CPU\n",
      "\n",
      "Namespace(weights='', cfg='/workspaces/TFM-Master4-0/TFM-Master4-0/Reutilizacion-codigo/Codigo_3/ODRS/src/DL/train_models/models/yolov7/cfg/training/yolov7x.yaml', data='/workspaces/TFM-Master4-0/TFM-Master4-0/Reutilizacion-codigo/Codigo_3/ODRS/runs/2024-08-26_18-31-15_yolov7x/dataset.yaml', hyp='./train_models/models/yolov7/data/hyp.scratch.p5.yaml', epochs=150, batch_size=8, img_size=[832, 832], rect=False, resume=False, nosave=False, notest=False, noautoanchor=False, evolve=False, bucket='', cache_images=False, image_weights=False, device='cpu', multi_scale=False, single_cls=False, adam=False, sync_bn=False, local_rank=-1, workers=8, project='/workspaces/TFM-Master4-0/TFM-Master4-0/Reutilizacion-codigo/Codigo_3/ODRS/runs/2024-08-26_18-31-15_yolov7x', entity=None, name='exp', exist_ok=False, quad=False, linear_lr=False, label_smoothing=0.0, upload_dataset=False, bbox_interval=-1, save_period=-1, artifact_alias='latest', freeze=[0], v5_metric=False, world_size=1, global_rank=-1, save_dir='/workspaces/TFM-Master4-0/TFM-Master4-0/Reutilizacion-codigo/Codigo_3/ODRS/runs/2024-08-26_18-31-15_yolov7x/exp', total_batch_size=8)\n",
      "\u001b[34m\u001b[1mtensorboard: \u001b[0mStart with 'tensorboard --logdir /workspaces/TFM-Master4-0/TFM-Master4-0/Reutilizacion-codigo/Codigo_3/ODRS/runs/2024-08-26_18-31-15_yolov7x', view at http://localhost:6006/\n",
      "\u001b[34m\u001b[1mhyperparameters: \u001b[0mlr0=0.01, lrf=0.1, momentum=0.937, weight_decay=0.0005, warmup_epochs=3.0, warmup_momentum=0.8, warmup_bias_lr=0.1, box=0.05, cls=0.3, cls_pw=1.0, obj=0.7, obj_pw=1.0, iou_t=0.2, anchor_t=4.0, fl_gamma=0.0, hsv_h=0.015, hsv_s=0.7, hsv_v=0.4, degrees=0.0, translate=0.2, scale=0.9, shear=0.0, perspective=0.0, flipud=0.0, fliplr=0.5, mosaic=1.0, mixup=0.15, copy_paste=0.0, paste_in=0.15, loss_ota=1\n",
      "Overriding model.yaml nc=80 with nc=6\n",
      "\n",
      "from  n    params  module                                  arguments\n",
      "0                -1  1      1160  models.common.Conv                      [3, 40, 3, 1]\n",
      "1                -1  1     28960  models.common.Conv                      [40, 80, 3, 2]\n",
      "2                -1  1     57760  models.common.Conv                      [80, 80, 3, 1]\n",
      "3                -1  1    115520  models.common.Conv                      [80, 160, 3, 2]\n",
      "4                -1  1     10368  models.common.Conv                      [160, 64, 1, 1]\n",
      "5                -2  1     10368  models.common.Conv                      [160, 64, 1, 1]\n",
      "6                -1  1     36992  models.common.Conv                      [64, 64, 3, 1]\n",
      "7                -1  1     36992  models.common.Conv                      [64, 64, 3, 1]\n",
      "8                -1  1     36992  models.common.Conv                      [64, 64, 3, 1]\n",
      "9                -1  1     36992  models.common.Conv                      [64, 64, 3, 1]\n",
      "10                -1  1     36992  models.common.Conv                      [64, 64, 3, 1]\n",
      "11                -1  1     36992  models.common.Conv                      [64, 64, 3, 1]\n",
      "12[-1, -3, -5, -7, -8]  1         0  models.common.Concat                    [1]\n",
      "13                -1  1    103040  models.common.Conv                      [320, 320, 1, 1]\n",
      "14                -1  1         0  models.common.MP                        []\n",
      "15                -1  1     51520  models.common.Conv                      [320, 160, 1, 1]\n",
      "16                -3  1     51520  models.common.Conv                      [320, 160, 1, 1]\n",
      "17                -1  1    230720  models.common.Conv                      [160, 160, 3, 2]\n",
      "18          [-1, -3]  1         0  models.common.Concat                    [1]\n",
      "19                -1  1     41216  models.common.Conv                      [320, 128, 1, 1]\n",
      "20                -2  1     41216  models.common.Conv                      [320, 128, 1, 1]\n",
      "21                -1  1    147712  models.common.Conv                      [128, 128, 3, 1]\n",
      "22                -1  1    147712  models.common.Conv                      [128, 128, 3, 1]\n",
      "23                -1  1    147712  models.common.Conv                      [128, 128, 3, 1]\n",
      "24                -1  1    147712  models.common.Conv                      [128, 128, 3, 1]\n",
      "25                -1  1    147712  models.common.Conv                      [128, 128, 3, 1]\n",
      "26                -1  1    147712  models.common.Conv                      [128, 128, 3, 1]\n",
      "27[-1, -3, -5, -7, -8]  1         0  models.common.Concat                    [1]\n",
      "28                -1  1    410880  models.common.Conv                      [640, 640, 1, 1]\n",
      "29                -1  1         0  models.common.MP                        []\n",
      "30                -1  1    205440  models.common.Conv                      [640, 320, 1, 1]\n",
      "31                -3  1    205440  models.common.Conv                      [640, 320, 1, 1]\n",
      "32                -1  1    922240  models.common.Conv                      [320, 320, 3, 2]\n",
      "33          [-1, -3]  1         0  models.common.Concat                    [1]\n",
      "34                -1  1    164352  models.common.Conv                      [640, 256, 1, 1]\n",
      "35                -2  1    164352  models.common.Conv                      [640, 256, 1, 1]\n",
      "36                -1  1    590336  models.common.Conv                      [256, 256, 3, 1]\n",
      "37                -1  1    590336  models.common.Conv                      [256, 256, 3, 1]\n",
      "38                -1  1    590336  models.common.Conv                      [256, 256, 3, 1]\n",
      "39                -1  1    590336  models.common.Conv                      [256, 256, 3, 1]\n",
      "40                -1  1    590336  models.common.Conv                      [256, 256, 3, 1]\n",
      "41                -1  1    590336  models.common.Conv                      [256, 256, 3, 1]\n",
      "42[-1, -3, -5, -7, -8]  1         0  models.common.Concat                    [1]\n",
      "43                -1  1   1640960  models.common.Conv                      [1280, 1280, 1, 1]\n",
      "44                -1  1         0  models.common.MP                        []\n",
      "45                -1  1    820480  models.common.Conv                      [1280, 640, 1, 1]\n",
      "46                -3  1    820480  models.common.Conv                      [1280, 640, 1, 1]\n",
      "47                -1  1   3687680  models.common.Conv                      [640, 640, 3, 2]\n",
      "48          [-1, -3]  1         0  models.common.Concat                    [1]\n",
      "49                -1  1    328192  models.common.Conv                      [1280, 256, 1, 1]\n",
      "50                -2  1    328192  models.common.Conv                      [1280, 256, 1, 1]\n",
      "51                -1  1    590336  models.common.Conv                      [256, 256, 3, 1]\n",
      "52                -1  1    590336  models.common.Conv                      [256, 256, 3, 1]\n",
      "53                -1  1    590336  models.common.Conv                      [256, 256, 3, 1]\n",
      "54                -1  1    590336  models.common.Conv                      [256, 256, 3, 1]\n",
      "55                -1  1    590336  models.common.Conv                      [256, 256, 3, 1]\n",
      "56                -1  1    590336  models.common.Conv                      [256, 256, 3, 1]\n",
      "57[-1, -3, -5, -7, -8]  1         0  models.common.Concat                    [1]\n",
      "58                -1  1   1640960  models.common.Conv                      [1280, 1280, 1, 1]\n",
      "59                -1  1  11887360  models.common.SPPCSPC                   [1280, 640, 1]\n",
      "60                -1  1    205440  models.common.Conv                      [640, 320, 1, 1]\n",
      "61                -1  1         0  torch.nn.modules.upsampling.Upsample    [None, 2, 'nearest']\n",
      "62                43  1    410240  models.common.Conv                      [1280, 320, 1, 1]\n",
      "63          [-1, -2]  1         0  models.common.Concat                    [1]\n",
      "64                -1  1    164352  models.common.Conv                      [640, 256, 1, 1]\n",
      "65                -2  1    164352  models.common.Conv                      [640, 256, 1, 1]\n",
      "66                -1  1    590336  models.common.Conv                      [256, 256, 3, 1]\n",
      "67                -1  1    590336  models.common.Conv                      [256, 256, 3, 1]\n",
      "68                -1  1    590336  models.common.Conv                      [256, 256, 3, 1]\n",
      "69                -1  1    590336  models.common.Conv                      [256, 256, 3, 1]\n",
      "70                -1  1    590336  models.common.Conv                      [256, 256, 3, 1]\n",
      "71                -1  1    590336  models.common.Conv                      [256, 256, 3, 1]\n",
      "72[-1, -3, -5, -7, -8]  1         0  models.common.Concat                    [1]\n",
      "73                -1  1    410240  models.common.Conv                      [1280, 320, 1, 1]\n",
      "74                -1  1     51520  models.common.Conv                      [320, 160, 1, 1]\n",
      "75                -1  1         0  torch.nn.modules.upsampling.Upsample    [None, 2, 'nearest']\n",
      "76                28  1    102720  models.common.Conv                      [640, 160, 1, 1]\n",
      "77          [-1, -2]  1         0  models.common.Concat                    [1]\n",
      "78                -1  1     41216  models.common.Conv                      [320, 128, 1, 1]\n",
      "79                -2  1     41216  models.common.Conv                      [320, 128, 1, 1]\n",
      "80                -1  1    147712  models.common.Conv                      [128, 128, 3, 1]\n",
      "81                -1  1    147712  models.common.Conv                      [128, 128, 3, 1]\n",
      "82                -1  1    147712  models.common.Conv                      [128, 128, 3, 1]\n",
      "83                -1  1    147712  models.common.Conv                      [128, 128, 3, 1]\n",
      "84                -1  1    147712  models.common.Conv                      [128, 128, 3, 1]\n",
      "85                -1  1    147712  models.common.Conv                      [128, 128, 3, 1]\n",
      "86[-1, -3, -5, -7, -8]  1         0  models.common.Concat                    [1]\n",
      "87                -1  1    102720  models.common.Conv                      [640, 160, 1, 1]\n",
      "88                -1  1         0  models.common.MP                        []\n",
      "89                -1  1     25920  models.common.Conv                      [160, 160, 1, 1]\n",
      "90                -3  1     25920  models.common.Conv                      [160, 160, 1, 1]\n",
      "91                -1  1    230720  models.common.Conv                      [160, 160, 3, 2]\n",
      "92      [-1, -3, 73]  1         0  models.common.Concat                    [1]\n",
      "93                -1  1    164352  models.common.Conv                      [640, 256, 1, 1]\n",
      "94                -2  1    164352  models.common.Conv                      [640, 256, 1, 1]\n",
      "95                -1  1    590336  models.common.Conv                      [256, 256, 3, 1]\n",
      "96                -1  1    590336  models.common.Conv                      [256, 256, 3, 1]\n",
      "97                -1  1    590336  models.common.Conv                      [256, 256, 3, 1]\n",
      "98                -1  1    590336  models.common.Conv                      [256, 256, 3, 1]\n",
      "99                -1  1    590336  models.common.Conv                      [256, 256, 3, 1]\n",
      "100                -1  1    590336  models.common.Conv                      [256, 256, 3, 1]\n",
      "101[-1, -3, -5, -7, -8]  1         0  models.common.Concat                    [1]\n",
      "102                -1  1    410240  models.common.Conv                      [1280, 320, 1, 1]\n",
      "103                -1  1         0  models.common.MP                        []\n",
      "104                -1  1    103040  models.common.Conv                      [320, 320, 1, 1]\n",
      "105                -3  1    103040  models.common.Conv                      [320, 320, 1, 1]\n",
      "106                -1  1    922240  models.common.Conv                      [320, 320, 3, 2]\n",
      "107      [-1, -3, 59]  1         0  models.common.Concat                    [1]\n",
      "108                -1  1    656384  models.common.Conv                      [1280, 512, 1, 1]\n",
      "109                -2  1    656384  models.common.Conv                      [1280, 512, 1, 1]\n",
      "110                -1  1   2360320  models.common.Conv                      [512, 512, 3, 1]\n",
      "111                -1  1   2360320  models.common.Conv                      [512, 512, 3, 1]\n",
      "112                -1  1   2360320  models.common.Conv                      [512, 512, 3, 1]\n",
      "113                -1  1   2360320  models.common.Conv                      [512, 512, 3, 1]\n",
      "114                -1  1   2360320  models.common.Conv                      [512, 512, 3, 1]\n",
      "115                -1  1   2360320  models.common.Conv                      [512, 512, 3, 1]\n",
      "116[-1, -3, -5, -7, -8]  1         0  models.common.Concat                    [1]\n",
      "117                -1  1   1639680  models.common.Conv                      [2560, 640, 1, 1]\n",
      "118                87  1    461440  models.common.Conv                      [160, 320, 3, 1]\n",
      "119               102  1   1844480  models.common.Conv                      [320, 640, 3, 1]\n",
      "120               117  1   7375360  models.common.Conv                      [640, 1280, 3, 1]\n",
      "121   [118, 119, 120]  1     76358  models.yolo.IDetect                     [6, [[12, 16, 19, 36, 40, 28], [36, 75, 76, 55, 72, 146], [142, 110, 192, 243, 459, 401]], [320, 640, 1280]]\n",
      "/home/codespace/.python/current/lib/python3.10/site-packages/torch/functional.py:504: UserWarning: torch.meshgrid: in an upcoming release, it will be required to pass the indexing argument. (Triggered internally at ../aten/src/ATen/native/TensorShape.cpp:3190.)\n",
      "return _VF.meshgrid(tensors, **kwargs)  # type: ignore[attr-defined]\n",
      "Model Summary: 467 layers, 70848782 parameters, 70848782 gradients, 189.0 GFLOPS\n",
      "\n",
      "Scaled weight_decay = 0.0005\n",
      "Optimizer groups: 108 .bias, 108 conv.weight, 111 other\n",
      "\u001b[34m\u001b[1mtrain: \u001b[0mScanning '/workspaces/TFM-Master4-0/TFM-Master4-0/Reutilizacion-codigo/Codigo_3/ODRS/user_datasets/dataset/train/labels' images and labels... 448 found, 0 missing, 0 empty, 0 corrupted: 100%|██████████| 448/448 [00:00<00:00, 3866.55it/s]\n",
      "\u001b[34m\u001b[1mtrain: \u001b[0mNew cache created: /workspaces/TFM-Master4-0/TFM-Master4-0/Reutilizacion-codigo/Codigo_3/ODRS/user_datasets/dataset/train/labels.cache\n",
      "\u001b[34m\u001b[1mval: \u001b[0mScanning '/workspaces/TFM-Master4-0/TFM-Master4-0/Reutilizacion-codigo/Codigo_3/ODRS/user_datasets/dataset/valid/labels' images and labels... 50 found, 0 missing, 0 empty, 0 corrupted: 100%|██████████| 50/50 [00:00<00:00, 1229.10it/s]\n",
      "\u001b[34m\u001b[1mval: \u001b[0mNew cache created: /workspaces/TFM-Master4-0/TFM-Master4-0/Reutilizacion-codigo/Codigo_3/ODRS/user_datasets/dataset/valid/labels.cache\n",
      "\n",
      "\u001b[34m\u001b[1mautoanchor: \u001b[0mAnalyzing anchors... anchors/target = 5.56, Best Possible Recall (BPR) = 1.0000\n",
      "Image sizes 832 train, 832 test\n",
      "Using 4 dataloader workers\n",
      "Logging results to /workspaces/TFM-Master4-0/TFM-Master4-0/Reutilizacion-codigo/Codigo_3/ODRS/runs/2024-08-26_18-31-15_yolov7x/exp\n",
      "Starting training for 150 epochs...\n",
      "ERROR: Unexpected bus error encountered in worker. This might be caused by insufficient shared memory (shm).\n",
      "\u0000Traceback (most recent call last):\n",
      "File \"/home/codespace/.python/current/lib/python3.10/multiprocessing/queues.py\", line 244, in _feed\n",
      "obj = _ForkingPickler.dumps(obj)\n",
      "File \"/home/codespace/.python/current/lib/python3.10/multiprocessing/reduction.py\", line 51, in dumps\n",
      "cls(buf, protocol).dump(obj)\n",
      "File \"/home/codespace/.python/current/lib/python3.10/site-packages/torch/multiprocessing/reductions.py\", line 366, in reduce_storage\n",
      "fd, size = storage._share_fd_cpu_()\n",
      "RuntimeError: unable to write to file </torch_102303_1718997719_0>: No space left on device (28)\n",
      "Traceback (most recent call last):\n",
      "File \"/workspaces/TFM-Master4-0/TFM-Master4-0/Reutilizacion-codigo/Codigo_3/ODRS/src/DL/train_models/models/yolov7/train.py\", line 616, in <module>\n",
      "train(hyp, opt, device, tb_writer)\n",
      "File \"/workspaces/TFM-Master4-0/TFM-Master4-0/Reutilizacion-codigo/Codigo_3/ODRS/src/DL/train_models/models/yolov7/train.py\", line 306, in train\n",
      "torch.save(model, wdir / 'init.pt')\n",
      "File \"/home/codespace/.python/current/lib/python3.10/site-packages/torch/serialization.py\", line 423, in save\n",
      "_save(obj, opened_zipfile, pickle_module, pickle_protocol)\n",
      "File \"/home/codespace/.python/current/lib/python3.10/site-packages/torch/serialization.py\", line 650, in _save\n",
      "zip_file.write_record(name, storage.data_ptr(), num_bytes)\n",
      "File \"/home/codespace/.python/current/lib/python3.10/site-packages/torch/utils/data/_utils/signal_handling.py\", line 66, in handler\n",
      "_error_if_any_worker_fails()\n",
      "RuntimeError: DataLoader worker (pid 102307) is killed by signal: Bus error. It is possible that dataloader's workers are out of shared memory. Please try to raise your shared memory limit.\n"
     ]
    }
   ],
   "source": [
    "!python3 /workspaces/TFM-Master4-0/TFM-Master4-0/Reutilizacion-codigo/Codigo_3/ODRS/src/DL/train_detectors.py \\\n",
    "    --cfg /workspaces/TFM-Master4-0/TFM-Master4-0/Reutilizacion-codigo/Codigo_3/ODRS/src/DL/train_models/models/yolov7/cfg/training/yolov7x.yaml \\\n",
    "    --data /workspaces/TFM-Master4-0/TFM-Master4-0/Reutilizacion-codigo/Codigo_3/ODRS/runs/2024-08-26_18-20-01_yolov7x/dataset.yaml \\\n",
    "    --epochs 2 \\\n",
    "    --batch-size 1 \\\n",
    "    --imgsz 320 \\\n",
    "    --workers 0\n"
   ]
  }
 ],
 "metadata": {
  "kernelspec": {
   "display_name": "Python 3",
   "language": "python",
   "name": "python3"
  },
  "language_info": {
   "codemirror_mode": {
    "name": "ipython",
    "version": 3
   },
   "file_extension": ".py",
   "mimetype": "text/x-python",
   "name": "python",
   "nbconvert_exporter": "python",
   "pygments_lexer": "ipython3",
   "version": "3.10.13"
  }
 },
 "nbformat": 4,
 "nbformat_minor": 2
}
