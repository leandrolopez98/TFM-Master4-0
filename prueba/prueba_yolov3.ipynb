{
 "cells": [
  {
   "cell_type": "code",
   "execution_count": null,
   "metadata": {},
   "outputs": [],
   "source": [
    "# Clonar el repositorio de darknet\n",
    "!git clone https://github.com/AlexeyAB/darknet.git\n",
    "\n",
    "# Navegar al directorio darknet\n",
    "%cd darknet\n",
    "\n",
    "# Compilar darknet\n",
    "!make"
   ]
  },
  {
   "cell_type": "code",
   "execution_count": 2,
   "metadata": {},
   "outputs": [
    {
     "name": "stdout",
     "output_type": "stream",
     "text": [
      "--2024-08-25 10:32:56--  https://pjreddie.com/media/files/yolov3-tiny.weights\n",
      "Resolving pjreddie.com (pjreddie.com)... 162.0.215.52\n",
      "Connecting to pjreddie.com (pjreddie.com)|162.0.215.52|:443... connected.\n",
      "HTTP request sent, awaiting response... 200 OK\n",
      "Length: 35434956 (34M) [application/octet-stream]\n",
      "Saving to: ‘yolov3-tiny.weights’\n",
      "\n",
      "yolov3-tiny.weights 100%[===================>]  33.79M  12.6MB/s    in 2.7s    \n",
      "\n",
      "2024-08-25 10:32:59 (12.6 MB/s) - ‘yolov3-tiny.weights’ saved [35434956/35434956]\n",
      "\n"
     ]
    }
   ],
   "source": [
    "!wget https://pjreddie.com/media/files/yolov3-tiny.weights -O yolov3-tiny.weights\n"
   ]
  },
  {
   "cell_type": "code",
   "execution_count": 3,
   "metadata": {},
   "outputs": [
    {
     "name": "stdout",
     "output_type": "stream",
     "text": [
      "/workspaces/TFM-Master4-0/TFM-Master4-0/Codigo_TFM_2/darknet/yolov3-tiny.weights\n",
      "/workspaces/TFM-Master4-0/TFM-Master4-0/Codigo_TFM_2/yolov5/yolov3-tiny.weights\n"
     ]
    }
   ],
   "source": [
    "import os\n",
    "\n",
    "for root, dirs, files in os.walk(\"/workspaces\"):\n",
    "    for file in files:\n",
    "        if file == \"yolov3-tiny.weights\":\n",
    "            print(os.path.join(root, file))"
   ]
  }
 ],
 "metadata": {
  "kernelspec": {
   "display_name": "Python 3",
   "language": "python",
   "name": "python3"
  },
  "language_info": {
   "codemirror_mode": {
    "name": "ipython",
    "version": 3
   },
   "file_extension": ".py",
   "mimetype": "text/x-python",
   "name": "python",
   "nbconvert_exporter": "python",
   "pygments_lexer": "ipython3",
   "version": "3.10.13"
  }
 },
 "nbformat": 4,
 "nbformat_minor": 2
}
