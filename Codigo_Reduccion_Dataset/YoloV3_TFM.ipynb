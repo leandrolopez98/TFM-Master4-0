{
 "cells": [
  {
   "cell_type": "code",
   "execution_count": 15,
   "metadata": {},
   "outputs": [
    {
     "name": "stdout",
     "output_type": "stream",
     "text": [
      "--2024-08-25 20:49:25--  https://pjreddie.com/media/files/yolov3-tiny.weights\n",
      "Resolving pjreddie.com (pjreddie.com)... 162.0.215.52\n",
      "Connecting to pjreddie.com (pjreddie.com)|162.0.215.52|:443... connected.\n",
      "HTTP request sent, awaiting response... 200 OK\n",
      "Length: 35434956 (34M) [application/octet-stream]\n",
      "Saving to: ‘yolov3-tiny.weights’\n",
      "\n",
      "yolov3-tiny.weights 100%[===================>]  33.79M  12.3MB/s    in 2.8s    \n",
      "\n",
      "2024-08-25 20:49:28 (12.3 MB/s) - ‘yolov3-tiny.weights’ saved [35434956/35434956]\n",
      "\n",
      "fatal: destination path 'darknet' already exists and is not an empty directory.\n"
     ]
    },
    {
     "ename": "NotADirectoryError",
     "evalue": "[Errno 20] Not a directory: 'darknet'",
     "output_type": "error",
     "traceback": [
      "\u001b[0;31m---------------------------------------------------------------------------\u001b[0m",
      "\u001b[0;31mNotADirectoryError\u001b[0m                        Traceback (most recent call last)",
      "Cell \u001b[0;32mIn[15], line 9\u001b[0m\n\u001b[1;32m      7\u001b[0m \u001b[38;5;66;03m# Cambiar al directorio del repositorio clonado\u001b[39;00m\n\u001b[1;32m      8\u001b[0m \u001b[38;5;28;01mimport\u001b[39;00m \u001b[38;5;21;01mos\u001b[39;00m\n\u001b[0;32m----> 9\u001b[0m \u001b[43mos\u001b[49m\u001b[38;5;241;43m.\u001b[39;49m\u001b[43mchdir\u001b[49m\u001b[43m(\u001b[49m\u001b[38;5;124;43m'\u001b[39;49m\u001b[38;5;124;43mdarknet\u001b[39;49m\u001b[38;5;124;43m'\u001b[39;49m\u001b[43m)\u001b[49m\n\u001b[1;32m     11\u001b[0m \u001b[38;5;66;03m# Compilar darknet\u001b[39;00m\n\u001b[1;32m     12\u001b[0m get_ipython()\u001b[38;5;241m.\u001b[39msystem(\u001b[38;5;124m'\u001b[39m\u001b[38;5;124mmake\u001b[39m\u001b[38;5;124m'\u001b[39m)\n",
      "\u001b[0;31mNotADirectoryError\u001b[0m: [Errno 20] Not a directory: 'darknet'"
     ]
    }
   ],
   "source": [
    "# Descargar los pesos preentrenados de YOLOv3-Tiny\n",
    "!wget https://pjreddie.com/media/files/yolov3-tiny.weights -O yolov3-tiny.weights\n",
    "\n",
    "# Clonar el repositorio de YOLOv3\n",
    "!git clone https://github.com/AlexeyAB/darknet.git\n",
    "\n",
    "# Cambiar al directorio del repositorio clonado\n",
    "import os\n",
    "os.chdir('darknet')\n",
    "\n",
    "# Compilar darknet\n",
    "!make\n"
   ]
  },
  {
   "cell_type": "code",
   "execution_count": null,
   "metadata": {},
   "outputs": [],
   "source": [
    "# Celda 2b: Creación del archivo de configuración de datos para YOLOv3\n",
    "import os\n",
    "import glob\n",
    "import shutil\n",
    "\n",
    "# Directorios de imágenes\n",
    "train_dir = '/workspaces/TFM-Master4-0/TFM-Master4-0/Codigo_Reduccion_Dataset/Train-Images'\n",
    "val_dir = '/workspaces/TFM-Master4-0/TFM-Master4-0/Codigo_Reduccion_Dataset/Val-Images'\n",
    "\n",
    "# Obtener todas las rutas de las imágenes\n",
    "train_images = glob.glob(os.path.join(train_dir, '*.jpg'))\n",
    "val_images = glob.glob(os.path.join(val_dir, '*.jpg'))\n",
    "\n",
    "# Guardar las rutas en archivos .txt\n",
    "with open('/workspaces/TFM-Master4-0/TFM-Master4-0/Codigo_Reduccion_Dataset/Train-Images/train.txt', 'w') as f:\n",
    "    for path in train_images:\n",
    "        f.write(f\"{path}\\n\")\n",
    "\n",
    "with open('/workspaces/TFM-Master4-0/TFM-Master4-0/Codigo_Reduccion_Dataset/Val-Images/val.txt', 'w') as f:\n",
    "    for path in val_images:\n",
    "        f.write(f\"{path}\\n\")\n",
    "\n",
    "print(\"Archivos train.txt y val.txt creados con éxito.\")\n",
    "\n",
    "# Crear el archivo yolov3.names\n",
    "names_file_content = \"\"\"botellas de plástico\n",
    "botellas de vidrio\n",
    "frascos\n",
    "latas\n",
    "cartón\n",
    "detergentes\"\"\"\n",
    "\n",
    "with open('/workspaces/TFM-Master4-0/TFM-Master4-0/Codigo_Reduccion_Dataset/yolov3.names', 'w') as f:\n",
    "    f.write(names_file_content)\n",
    "\n",
    "print(\"Archivo yolov3.names creado con éxito.\")\n",
    "\n",
    "# Crear la carpeta backup\n",
    "backup_dir = '/workspaces/TFM-Master4-0/TFM-Master4-0/Codigo_Reduccion_Dataset/backup'\n",
    "os.makedirs(backup_dir, exist_ok=True)\n",
    "print(f\"Carpeta backup creada en {backup_dir}.\")\n",
    "\n",
    "# Crear el archivo .data para YOLOv3\n",
    "data_file_content = f\"\"\"\n",
    "classes= 6\n",
    "train  = /workspaces/TFM-Master4-0/TFM-Master4-0/Codigo_Reduccion_Dataset/Train-Images/train.txt\n",
    "valid  = /workspaces/TFM-Master4-0/TFM-Master4-0/Codigo_Reduccion_Dataset/Val-Images/val.txt\n",
    "names  = /workspaces/TFM-Master4-0/TFM-Master4-0/Codigo_Reduccion_Dataset/yolov3.names\n",
    "backup = /workspaces/TFM-Master4-0/TFM-Master4-0/Codigo_Reduccion_Dataset/backup/\n",
    "\"\"\"\n",
    "\n",
    "# Guardar el archivo como yolov3-tiny.data\n",
    "current_path = '/workspaces/TFM-Master4-0/TFM-Master4-0/Codigo_Reduccion_Dataset/yolov3-tiny.data'\n",
    "with open(current_path, 'w') as f:\n",
    "    f.write(data_file_content)\n",
    "print(\"Archivo yolov3-tiny.data guardado con éxito\")"
   ]
  },
  {
   "cell_type": "code",
   "execution_count": null,
   "metadata": {},
   "outputs": [],
   "source": [
    "# Celda 2b: Mover el archivo yolov3-tiny.data\n",
    "# Ruta de destino en darknet/cfg\n",
    "destination_dir = '/workspaces/TFM-Master4-0/TFM-Master4-0/Codigo_Reduccion_Dataset/darknet/cfg'\n",
    "destination_path = os.path.join(destination_dir, 'yolov3-tiny.data')\n",
    "\n",
    "# Crear el directorio cfg si no existe\n",
    "os.makedirs(destination_dir, exist_ok=True)\n",
    "\n",
    "# Mover el archivo\n",
    "shutil.move(current_path, destination_path)\n",
    "print(f\"Archivo movido a '{destination_path}'.\")\n",
    "\n",
    "# Verificar si el archivo fue movido correctamente\n",
    "if os.path.exists(destination_path):\n",
    "    print(f\"El archivo '{destination_path}' existe.\")\n",
    "else:\n",
    "    print(f\"El archivo '{destination_path}' no existe.\")"
   ]
  },
  {
   "cell_type": "code",
   "execution_count": null,
   "metadata": {},
   "outputs": [],
   "source": [
    "# Celda 4b: Entrenamiento del modelo YOLOv3\n",
    "# Descargar los pesos preentrenados\n",
    "!wget https://pjreddie.com/media/files/darknet53.conv.74 -O darknet53.conv.74\n",
    "\n",
    "# Entrenar el modelo YOLOv3\n",
    "!./darknet detector train /workspaces/TFM-Master4-0/TFM-Master4-0/Codigo_Reduccion_Dataset/darknet/cfg/yolov3-tiny.data /workspaces/TFM-Master4-0/TFM-Master4-0/Codigo_Reduccion_Dataset/darknet/cfg/yolov3-tiny.cfg /workspaces/TFM-Master4-0/TFM-Master4-0/Codigo_Reduccion_Dataset/yolov3-tiny.weights -clear"
   ]
  },
  {
   "cell_type": "code",
   "execution_count": 12,
   "metadata": {},
   "outputs": [
    {
     "name": "stdout",
     "output_type": "stream",
     "text": [
      "Archivo /workspaces/TFM-Master4-0/TFM-Master4-0/Codigo_Reduccion_Dataset/darknet/libdarknet.so encontrado correctamente.\n"
     ]
    }
   ],
   "source": [
    "import os\n",
    "\n",
    "# Verificar si el archivo existe en la ubicación correcta\n",
    "libdarknet_path = '/workspaces/TFM-Master4-0/TFM-Master4-0/Codigo_Reduccion_Dataset/darknet/libdarknet.so'\n",
    "\n",
    "if os.path.exists(libdarknet_path):\n",
    "    print(f\"Archivo {libdarknet_path} encontrado correctamente.\")\n",
    "else:\n",
    "    print(f\"Archivo {libdarknet_path} no encontrado. Verifica la compilación de Darknet.\")\n"
   ]
  },
  {
   "cell_type": "code",
   "execution_count": 16,
   "metadata": {},
   "outputs": [
    {
     "name": "stderr",
     "output_type": "stream",
     "text": [
      "[ WARN:0@963.868] global loadsave.cpp:248 findDecoder imread_('/workspaces/TFM-Master4-0/TFM-Master4-0/Codigo_Reduccion_Dataset/Val-Images/sample.jpg'): can't open/read file: check file path/integrity\n",
      "[ WARN:0@963.868] global dnn_utils.cpp:166 blobFromImagesWithParamsImpl Red/blue color swapping requires at least three image channels.\n"
     ]
    },
    {
     "ename": "error",
     "evalue": "OpenCV(4.9.0) /io/opencv/modules/imgproc/src/resize.cpp:4152: error: (-215:Assertion failed) !ssize.empty() in function 'resize'\n",
     "output_type": "error",
     "traceback": [
      "\u001b[0;31m---------------------------------------------------------------------------\u001b[0m",
      "\u001b[0;31merror\u001b[0m                                     Traceback (most recent call last)",
      "Cell \u001b[0;32mIn[16], line 62\u001b[0m\n\u001b[1;32m     60\u001b[0m \u001b[38;5;66;03m# Evaluar una imagen\u001b[39;00m\n\u001b[1;32m     61\u001b[0m image_path \u001b[38;5;241m=\u001b[39m \u001b[38;5;124m'\u001b[39m\u001b[38;5;124m/workspaces/TFM-Master4-0/TFM-Master4-0/Codigo_Reduccion_Dataset/Val-Images/sample.jpg\u001b[39m\u001b[38;5;124m'\u001b[39m\n\u001b[0;32m---> 62\u001b[0m output_image \u001b[38;5;241m=\u001b[39m \u001b[43mdetect_image\u001b[49m\u001b[43m(\u001b[49m\u001b[43mimage_path\u001b[49m\u001b[43m)\u001b[49m\n\u001b[1;32m     64\u001b[0m \u001b[38;5;66;03m# Mostrar el resultado\u001b[39;00m\n\u001b[1;32m     65\u001b[0m cv\u001b[38;5;241m.\u001b[39mimshow(\u001b[38;5;124m'\u001b[39m\u001b[38;5;124mDetections\u001b[39m\u001b[38;5;124m'\u001b[39m, output_image)\n",
      "Cell \u001b[0;32mIn[16], line 22\u001b[0m, in \u001b[0;36mdetect_image\u001b[0;34m(image_path)\u001b[0m\n\u001b[1;32m     20\u001b[0m \u001b[38;5;28;01mdef\u001b[39;00m \u001b[38;5;21mdetect_image\u001b[39m(image_path):\n\u001b[1;32m     21\u001b[0m     image \u001b[38;5;241m=\u001b[39m cv\u001b[38;5;241m.\u001b[39mimread(image_path)\n\u001b[0;32m---> 22\u001b[0m     blob \u001b[38;5;241m=\u001b[39m \u001b[43mcv\u001b[49m\u001b[38;5;241;43m.\u001b[39;49m\u001b[43mdnn\u001b[49m\u001b[38;5;241;43m.\u001b[39;49m\u001b[43mblobFromImage\u001b[49m\u001b[43m(\u001b[49m\u001b[43mimage\u001b[49m\u001b[43m,\u001b[49m\u001b[43m \u001b[49m\u001b[38;5;241;43m1\u001b[39;49m\u001b[38;5;241;43m/\u001b[39;49m\u001b[38;5;241;43m255.0\u001b[39;49m\u001b[43m,\u001b[49m\u001b[43m \u001b[49m\u001b[43m(\u001b[49m\u001b[38;5;241;43m416\u001b[39;49m\u001b[43m,\u001b[49m\u001b[43m \u001b[49m\u001b[38;5;241;43m416\u001b[39;49m\u001b[43m)\u001b[49m\u001b[43m,\u001b[49m\u001b[43m \u001b[49m\u001b[43mswapRB\u001b[49m\u001b[38;5;241;43m=\u001b[39;49m\u001b[38;5;28;43;01mTrue\u001b[39;49;00m\u001b[43m,\u001b[49m\u001b[43m \u001b[49m\u001b[43mcrop\u001b[49m\u001b[38;5;241;43m=\u001b[39;49m\u001b[38;5;28;43;01mFalse\u001b[39;49;00m\u001b[43m)\u001b[49m\n\u001b[1;32m     23\u001b[0m     net\u001b[38;5;241m.\u001b[39msetInput(blob)\n\u001b[1;32m     24\u001b[0m     layer_outputs \u001b[38;5;241m=\u001b[39m net\u001b[38;5;241m.\u001b[39mforward(net\u001b[38;5;241m.\u001b[39mgetUnconnectedOutLayersNames())\n",
      "\u001b[0;31merror\u001b[0m: OpenCV(4.9.0) /io/opencv/modules/imgproc/src/resize.cpp:4152: error: (-215:Assertion failed) !ssize.empty() in function 'resize'\n"
     ]
    }
   ],
   "source": [
    "#Celda 5b: Evaluación del Rendimiento de Yolov3\n",
    "import cv2 as cv\n",
    "import numpy as np\n",
    "import os\n",
    "\n",
    "# Cargar la red YOLOv3 usando OpenCV DNN\n",
    "cfg_path = '/workspaces/TFM-Master4-0/TFM-Master4-0/Codigo_Reduccion_Dataset/darknet/cfg/yolov3-tiny.cfg'\n",
    "weights_path = '/workspaces/TFM-Master4-0/TFM-Master4-0/Codigo_Reduccion_Dataset/backup/yolov3-tiny_final.weights'\n",
    "names_path = '/workspaces/TFM-Master4-0/TFM-Master4-0/Codigo_Reduccion_Dataset/yolov3.names'\n",
    "\n",
    "net = cv.dnn.readNetFromDarknet(cfg_path, weights_path)\n",
    "net.setPreferableBackend(cv.dnn.DNN_BACKEND_OPENCV)\n",
    "net.setPreferableTarget(cv.dnn.DNN_TARGET_CPU)\n",
    "\n",
    "# Cargar las clases desde el archivo .names\n",
    "with open(names_path, 'r') as f:\n",
    "    classes = [line.strip() for line in f.readlines()]\n",
    "\n",
    "# Función para realizar la detección\n",
    "def detect_image(image_path):\n",
    "    image = cv.imread(image_path)\n",
    "    blob = cv.dnn.blobFromImage(image, 1/255.0, (416, 416), swapRB=True, crop=False)\n",
    "    net.setInput(blob)\n",
    "    layer_outputs = net.forward(net.getUnconnectedOutLayersNames())\n",
    "\n",
    "    boxes = []\n",
    "    confidences = []\n",
    "    class_ids = []\n",
    "\n",
    "    h, w = image.shape[:2]\n",
    "    \n",
    "    for output in layer_outputs:\n",
    "        for detection in output:\n",
    "            scores = detection[5:]\n",
    "            class_id = np.argmax(scores)\n",
    "            confidence = scores[class_id]\n",
    "            if confidence > 0.5:\n",
    "                box = detection[0:4] * np.array([w, h, w, h])\n",
    "                (centerX, centerY, width, height) = box.astype(\"int\")\n",
    "\n",
    "                x = int(centerX - (width / 2))\n",
    "                y = int(centerY - (height / 2))\n",
    "\n",
    "                boxes.append([x, y, int(width), int(height)])\n",
    "                confidences.append(float(confidence))\n",
    "                class_ids.append(class_id)\n",
    "\n",
    "    indices = cv.dnn.NMSBoxes(boxes, confidences, 0.5, 0.4)\n",
    "\n",
    "    if len(indices) > 0:\n",
    "        for i in indices.flatten():\n",
    "            x, y, w, h = boxes[i]\n",
    "            color = [int(c) for c in np.random.uniform(0, 255, size=(3,))]\n",
    "            cv.rectangle(image, (x, y), (x + w, y + h), color, 2)\n",
    "            text = f\"{classes[class_ids[i]]}: {confidences[i]:.4f}\"\n",
    "            cv.putText(image, text, (x, y - 5), cv.FONT_HERSHEY_SIMPLEX, 0.5, color, 2)\n",
    "\n",
    "    return image\n",
    "\n",
    "# Evaluar una imagen\n",
    "image_path = '/workspaces/TFM-Master4-0/TFM-Master4-0/Codigo_Reduccion_Dataset/Val-Images/sample.jpg'\n",
    "output_image = detect_image(image_path)\n",
    "\n",
    "# Mostrar el resultado\n",
    "cv.imshow('Detections', output_image)\n",
    "cv.waitKey(0)\n",
    "cv.destroyAllWindows()\n"
   ]
  }
 ],
 "metadata": {
  "kernelspec": {
   "display_name": "Python 3",
   "language": "python",
   "name": "python3"
  },
  "language_info": {
   "codemirror_mode": {
    "name": "ipython",
    "version": 3
   },
   "file_extension": ".py",
   "mimetype": "text/x-python",
   "name": "python",
   "nbconvert_exporter": "python",
   "pygments_lexer": "ipython3",
   "version": "3.10.13"
  }
 },
 "nbformat": 4,
 "nbformat_minor": 2
}
